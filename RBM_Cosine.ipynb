{
 "cells": [
  {
   "cell_type": "code",
   "execution_count": 191,
   "metadata": {},
   "outputs": [],
   "source": [
    "import numpy as np\n",
    "import pandas as pd\n",
    "import torch\n",
    "import torch.nn as nn\n",
    "import torch.nn.parallel\n",
    "import torch.optim as optim\n",
    "import torch.utils.data\n",
    "from torch.autograd import Variable\n",
    "from sklearn.model_selection import train_test_split\n"
   ]
  },
  {
   "cell_type": "code",
   "execution_count": 192,
   "metadata": {},
   "outputs": [],
   "source": [
    "# reading the dataset\n",
    "\n",
    "movies = pd.read_csv('ml-1m/movies.dat', sep='::', header=None, engine='python')\n",
    "users = pd.read_csv('ml-1m/users.dat', sep='::', header=None, engine='python')\n",
    "ratings = pd.read_csv('ml-1m/ratings.dat', sep='::', header=None, engine='python')"
   ]
  },
  {
   "cell_type": "code",
   "execution_count": 193,
   "metadata": {
    "scrolled": true
   },
   "outputs": [
    {
     "data": {
      "text/html": [
       "<div>\n",
       "<style scoped>\n",
       "    .dataframe tbody tr th:only-of-type {\n",
       "        vertical-align: middle;\n",
       "    }\n",
       "\n",
       "    .dataframe tbody tr th {\n",
       "        vertical-align: top;\n",
       "    }\n",
       "\n",
       "    .dataframe thead th {\n",
       "        text-align: right;\n",
       "    }\n",
       "</style>\n",
       "<table border=\"1\" class=\"dataframe\">\n",
       "  <thead>\n",
       "    <tr style=\"text-align: right;\">\n",
       "      <th></th>\n",
       "      <th>0</th>\n",
       "      <th>1</th>\n",
       "      <th>2</th>\n",
       "      <th>3</th>\n",
       "    </tr>\n",
       "  </thead>\n",
       "  <tbody>\n",
       "    <tr>\n",
       "      <th>0</th>\n",
       "      <td>1</td>\n",
       "      <td>1193</td>\n",
       "      <td>5</td>\n",
       "      <td>978300760</td>\n",
       "    </tr>\n",
       "    <tr>\n",
       "      <th>1</th>\n",
       "      <td>1</td>\n",
       "      <td>661</td>\n",
       "      <td>3</td>\n",
       "      <td>978302109</td>\n",
       "    </tr>\n",
       "    <tr>\n",
       "      <th>2</th>\n",
       "      <td>1</td>\n",
       "      <td>914</td>\n",
       "      <td>3</td>\n",
       "      <td>978301968</td>\n",
       "    </tr>\n",
       "    <tr>\n",
       "      <th>3</th>\n",
       "      <td>1</td>\n",
       "      <td>3408</td>\n",
       "      <td>4</td>\n",
       "      <td>978300275</td>\n",
       "    </tr>\n",
       "    <tr>\n",
       "      <th>4</th>\n",
       "      <td>1</td>\n",
       "      <td>2355</td>\n",
       "      <td>5</td>\n",
       "      <td>978824291</td>\n",
       "    </tr>\n",
       "  </tbody>\n",
       "</table>\n",
       "</div>"
      ],
      "text/plain": [
       "   0     1  2          3\n",
       "0  1  1193  5  978300760\n",
       "1  1   661  3  978302109\n",
       "2  1   914  3  978301968\n",
       "3  1  3408  4  978300275\n",
       "4  1  2355  5  978824291"
      ]
     },
     "execution_count": 193,
     "metadata": {},
     "output_type": "execute_result"
    }
   ],
   "source": [
    "#movies.head()\n",
    "users.head()\n",
    "ratings.head()"
   ]
  },
  {
   "cell_type": "code",
   "execution_count": 194,
   "metadata": {},
   "outputs": [],
   "source": [
    "# training_set = pd.read_csv('ml-100k/u1.base', delimiter='\\t')\n",
    "# #training_set = np.array(training_set, dtype='int')\n",
    "\n",
    "# testing_set = pd.read_csv('ml-100k/u1.test', delimiter='\\t')\n",
    "# #testing_set = np.array(testing_set, dtype='int64')\n",
    "# training_set.head()\n",
    "\n",
    "training_set, testing_set = train_test_split(ratings, train_size=0.75)"
   ]
  },
  {
   "cell_type": "code",
   "execution_count": 195,
   "metadata": {},
   "outputs": [
    {
     "name": "stdout",
     "output_type": "stream",
     "text": [
      "(750156, 4)\n",
      "(250053, 4)\n"
     ]
    }
   ],
   "source": [
    "print(training_set.shape)\n",
    "print(testing_set.shape)"
   ]
  },
  {
   "cell_type": "code",
   "execution_count": 196,
   "metadata": {},
   "outputs": [
    {
     "data": {
      "text/html": [
       "<div>\n",
       "<style scoped>\n",
       "    .dataframe tbody tr th:only-of-type {\n",
       "        vertical-align: middle;\n",
       "    }\n",
       "\n",
       "    .dataframe tbody tr th {\n",
       "        vertical-align: top;\n",
       "    }\n",
       "\n",
       "    .dataframe thead th {\n",
       "        text-align: right;\n",
       "    }\n",
       "</style>\n",
       "<table border=\"1\" class=\"dataframe\">\n",
       "  <thead>\n",
       "    <tr style=\"text-align: right;\">\n",
       "      <th></th>\n",
       "      <th>0</th>\n",
       "      <th>1</th>\n",
       "      <th>2</th>\n",
       "      <th>3</th>\n",
       "    </tr>\n",
       "  </thead>\n",
       "  <tbody>\n",
       "    <tr>\n",
       "      <th>371859</th>\n",
       "      <td>2172</td>\n",
       "      <td>2003</td>\n",
       "      <td>3</td>\n",
       "      <td>1015105588</td>\n",
       "    </tr>\n",
       "    <tr>\n",
       "      <th>141469</th>\n",
       "      <td>911</td>\n",
       "      <td>434</td>\n",
       "      <td>1</td>\n",
       "      <td>975206460</td>\n",
       "    </tr>\n",
       "    <tr>\n",
       "      <th>315300</th>\n",
       "      <td>1880</td>\n",
       "      <td>2312</td>\n",
       "      <td>4</td>\n",
       "      <td>975379429</td>\n",
       "    </tr>\n",
       "    <tr>\n",
       "      <th>653196</th>\n",
       "      <td>3937</td>\n",
       "      <td>1210</td>\n",
       "      <td>5</td>\n",
       "      <td>965700048</td>\n",
       "    </tr>\n",
       "    <tr>\n",
       "      <th>58030</th>\n",
       "      <td>392</td>\n",
       "      <td>3424</td>\n",
       "      <td>4</td>\n",
       "      <td>976304378</td>\n",
       "    </tr>\n",
       "  </tbody>\n",
       "</table>\n",
       "</div>"
      ],
      "text/plain": [
       "           0     1  2           3\n",
       "371859  2172  2003  3  1015105588\n",
       "141469   911   434  1   975206460\n",
       "315300  1880  2312  4   975379429\n",
       "653196  3937  1210  5   965700048\n",
       "58030    392  3424  4   976304378"
      ]
     },
     "execution_count": 196,
     "metadata": {},
     "output_type": "execute_result"
    }
   ],
   "source": [
    "# row:-  userId :: movieId :: rating(0-5) :: timestamp\n",
    "\n",
    "training_set.head()"
   ]
  },
  {
   "cell_type": "code",
   "execution_count": 197,
   "metadata": {},
   "outputs": [],
   "source": [
    "# get the maximum id of both user and movies from the combined training and testing data set\n",
    "max_user_id = max (max(training_set.iloc[:,0]), max(testing_set.iloc[:, 0]))\n",
    "max_movies_id = max (max(training_set.iloc[:, 1]), max(testing_set.iloc[:, 1]))"
   ]
  },
  {
   "cell_type": "code",
   "execution_count": 198,
   "metadata": {},
   "outputs": [
    {
     "name": "stdout",
     "output_type": "stream",
     "text": [
      "6040\n",
      "3952\n"
     ]
    },
    {
     "data": {
      "text/plain": [
       "int"
      ]
     },
     "execution_count": 198,
     "metadata": {},
     "output_type": "execute_result"
    }
   ],
   "source": [
    "print(max_user_id)\n",
    "print(max_movies_id)\n",
    "type(max_user_id)"
   ]
  },
  {
   "cell_type": "code",
   "execution_count": 199,
   "metadata": {},
   "outputs": [],
   "source": [
    "def transform(data):\n",
    "    new_data = []\n",
    "    for i in range(1, max_user_id+1):\n",
    "        movies_id = data.iloc[:, 1][data.iloc[:,0] == i]\n",
    "        rating_id = data.iloc[:, 2][data.iloc[:,0] == i]\n",
    "        ratings = np.zeros(max_movies_id)\n",
    "        ratings[movies_id-1] = rating_id\n",
    "        new_data.append(list(ratings))\n",
    "        \n",
    "    return new_data\n",
    "        "
   ]
  },
  {
   "cell_type": "code",
   "execution_count": 200,
   "metadata": {},
   "outputs": [],
   "source": [
    "# convert the traning data and testing data\n",
    "training_set = transform(training_set)\n",
    "testing_set = transform(testing_set)"
   ]
  },
  {
   "cell_type": "code",
   "execution_count": 201,
   "metadata": {},
   "outputs": [
    {
     "name": "stdout",
     "output_type": "stream",
     "text": [
      "6040\n",
      "3952\n"
     ]
    }
   ],
   "source": [
    "print(len(training_set))\n",
    "print(len(training_set[0]))"
   ]
  },
  {
   "cell_type": "code",
   "execution_count": 202,
   "metadata": {},
   "outputs": [
    {
     "name": "stdout",
     "output_type": "stream",
     "text": [
      "6040\n",
      "3952\n"
     ]
    }
   ],
   "source": [
    "print(len(testing_set))\n",
    "print(len(testing_set[0]))"
   ]
  },
  {
   "cell_type": "code",
   "execution_count": 203,
   "metadata": {},
   "outputs": [],
   "source": [
    "# convert the training set and testing set to tensor\n",
    "training_set = torch.FloatTensor(training_set)\n",
    "testing_set = torch.FloatTensor(testing_set)"
   ]
  },
  {
   "cell_type": "code",
   "execution_count": 204,
   "metadata": {},
   "outputs": [],
   "source": [
    "# converting the ratings to binary as RBM works on binary set only\n",
    "training_set[training_set == 0] = -1 # no rating\n",
    "training_set[training_set == 1] = 0  # bad movie\n",
    "training_set[training_set == 2] = 0 # bad movie\n",
    "training_set[training_set > 2] = 1 # good movie\n",
    "\n",
    "\n",
    "testing_set[testing_set == 0] = -1 # no rating\n",
    "testing_set[testing_set == 1] = 0  # bad movie\n",
    "testing_set[testing_set == 2] = 0 # bad movie\n",
    "testing_set[testing_set > 2] = 1  # good movie "
   ]
  },
  {
   "cell_type": "code",
   "execution_count": 205,
   "metadata": {},
   "outputs": [
    {
     "name": "stdout",
     "output_type": "stream",
     "text": [
      "tensor([[ 0.2756,  2.4720,  1.4491,  ...,  0.9280, -1.4229,  0.8039],\n",
      "        [ 2.0500, -1.7728, -0.5405,  ..., -0.0167, -0.8337, -0.6020],\n",
      "        [ 1.5795, -0.8202,  0.9582,  ..., -0.2405, -0.9903, -1.2395],\n",
      "        ...,\n",
      "        [-0.7488,  1.3128,  0.3053,  ...,  0.1726, -0.0504,  0.7839],\n",
      "        [ 0.0331,  0.3238,  0.0288,  ..., -0.0796,  0.5397,  0.8873],\n",
      "        [ 0.4304,  1.3914,  0.5983,  ..., -0.8464,  0.3124,  0.6137]])\n"
     ]
    }
   ],
   "source": [
    "'''\n",
    "GenerativeModels H. G.M.\n",
    "Github repository\n",
    "'''\n",
    "class RBM:\n",
    "    def __init__(self, num_visible, num_hidden):\n",
    "        #self.num_visible = num_visible\n",
    "        #self.num_hidden = num_hidden\n",
    "        \n",
    "        # initialize the weights with random\n",
    "        self.W = torch.randn(num_hidden, num_visible)\n",
    "        self.a = torch.randn(1, num_hidden)\n",
    "        self.b = torch.randn(1, num_visible)\n",
    "        print(self.W)\n",
    "        \n",
    "        \n",
    "    def sample_hidden(self, x):\n",
    "        Wx = torch.mm(x, self.W.t())  \n",
    "        activation = Wx + self.a.expand_as(Wx)\n",
    "        ph_given_v = torch.sigmoid(activation)\n",
    "        return ph_given_v, torch.bernoulli(ph_given_v)\n",
    "    \n",
    "    \n",
    "    def sample_visible(self, y):\n",
    "        Wy = torch.mm(y, self.W)\n",
    "        activation = Wy + self.b.expand_as(Wy)\n",
    "        pv_given_h = torch.sigmoid(activation)\n",
    "        return pv_given_h, torch.bernoulli(pv_given_h)\n",
    "    \n",
    "    def train (self, v0, vk, ph0, phk):\n",
    "        self.W += (torch.mm(v0.t(), ph0) - torch.mm(vk.t(), phk)).t()\n",
    "        self.b += torch.sum((v0 - vk), 0)\n",
    "        self.a += torch.sum((ph0-phk), 0)\n",
    "        \n",
    "nv = len(training_set[0])\n",
    "nh= 100\n",
    "batch_size = 100\n",
    "rbm = RBM(nv, nh)"
   ]
  },
  {
   "cell_type": "code",
   "execution_count": 206,
   "metadata": {},
   "outputs": [
    {
     "name": "stdout",
     "output_type": "stream",
     "text": [
      "epoch: 1RMSE loss: tensor(0.2444)\n",
      "epoch: 2RMSE loss: tensor(0.2278)\n",
      "epoch: 3RMSE loss: tensor(0.2274)\n",
      "epoch: 4RMSE loss: tensor(0.2284)\n",
      "epoch: 5RMSE loss: tensor(0.2281)\n",
      "epoch: 6RMSE loss: tensor(0.2281)\n",
      "epoch: 7RMSE loss: tensor(0.2289)\n",
      "epoch: 8RMSE loss: tensor(0.2280)\n",
      "epoch: 9RMSE loss: tensor(0.2281)\n",
      "epoch: 10RMSE loss: tensor(0.2274)\n",
      "epoch: 11RMSE loss: tensor(0.2279)\n",
      "epoch: 12RMSE loss: tensor(0.2276)\n",
      "epoch: 13RMSE loss: tensor(0.2275)\n",
      "epoch: 14RMSE loss: tensor(0.2281)\n",
      "epoch: 15RMSE loss: tensor(0.2280)\n",
      "epoch: 16RMSE loss: tensor(0.2284)\n",
      "epoch: 17RMSE loss: tensor(0.2277)\n",
      "epoch: 18RMSE loss: tensor(0.2277)\n",
      "epoch: 19RMSE loss: tensor(0.2281)\n",
      "epoch: 20RMSE loss: tensor(0.2281)\n"
     ]
    }
   ],
   "source": [
    "nb_epoch = 20\n",
    "rmse_erros = []\n",
    "for epoch in range(1, nb_epoch+1):\n",
    "    ##loss function\n",
    "    train_loss = 0\n",
    "    #normalize the loss, define a counter\n",
    "    s = 0.\n",
    "    #implement a batch learning, \n",
    "    for id_user in range(0, max_user_id - batch_size, 100):\n",
    "        #input batch values\n",
    "        vk = training_set[id_user: id_user+batch_size]\n",
    "        #target used for loss mesarue: rating \n",
    "        v0 = training_set[id_user: id_user+batch_size]\n",
    "        ##initilize probablity\n",
    "        #pho: given real rating at begining, probablity of hidden nodes\n",
    "        ph0, _ = rbm.sample_hidden(v0)\n",
    "        #k step of constrative divergence\n",
    "        for k in range(10):\n",
    "            _, hk = rbm.sample_hidden(vk)\n",
    "            _, vk = rbm.sample_visible(hk)\n",
    "            #training on rating that do exist, rating as -1\n",
    "            vk[v0<0] = v0[v0<0]\n",
    "        phk, _ = rbm.sample_hidden(vk)\n",
    "        #update weights and bias\n",
    "        rbm.train(v0, vk, ph0, phk)\n",
    "        #update train loss\n",
    "        train_loss += torch.mean(torch.abs(v0[v0>=0]-vk[v0>=0])**2)\n",
    "        s += 1\n",
    "    print('epoch: '+str(epoch)+'RMSE loss: '+str(train_loss/s))\n",
    "    rmse_erros.append(train_loss/s)\n",
    "#     print(s)"
   ]
  },
  {
   "cell_type": "code",
   "execution_count": 207,
   "metadata": {},
   "outputs": [
    {
     "data": {
      "text/plain": [
       "[<matplotlib.lines.Line2D at 0x7f5d0cb1ef10>]"
      ]
     },
     "execution_count": 207,
     "metadata": {},
     "output_type": "execute_result"
    },
    {
     "data": {
      "image/png": "[encoded data removed]",
      "text/plain": [
       "<Figure size 432x288 with 1 Axes>"
      ]
     },
     "metadata": {
      "needs_background": "light"
     },
     "output_type": "display_data"
    }
   ],
   "source": [
    "import matplotlib.pyplot as plt\n",
    "plt.xlabel = 'epochs'\n",
    "plt.ylabel = 'RMSE error'\n",
    "plt.plot(list(range(20)), rmse_erros, \"-\")"
   ]
  },
  {
   "cell_type": "code",
   "execution_count": 208,
   "metadata": {},
   "outputs": [
    {
     "name": "stdout",
     "output_type": "stream",
     "text": [
      "torch.Size([0])\n"
     ]
    }
   ],
   "source": [
    "##loss function\n",
    "test_loss = 0\n",
    "movies_like = torch.FloatTensor()\n",
    "print(movies_like.shape)\n",
    "s = 0.\n",
    "#implement a batch learning, \n",
    "for id_user in range(0, max_user_id):\n",
    "    v_input = training_set[id_user: id_user+1]\n",
    "    v_target = testing_set[id_user: id_user+1]\n",
    "    if len(v_target[v_target>=0]):\n",
    "        _, h = rbm.sample_hidden(v_input)\n",
    "        _, v_input = rbm.sample_visible(h)\n",
    "        test_loss += torch.mean(torch.abs(v_target[v_target>=0]-v_input[v_target>=0])**2)    \n",
    "        s += 1\n",
    "        \n"
   ]
  },
  {
   "cell_type": "code",
   "execution_count": 209,
   "metadata": {},
   "outputs": [
    {
     "name": "stdout",
     "output_type": "stream",
     "text": [
      "6038.0\n",
      "test loss: tensor(0.2063)\n"
     ]
    }
   ],
   "source": [
    "print(s)\n",
    "print('test loss: ' +str(test_loss/s))"
   ]
  },
  {
   "cell_type": "code",
   "execution_count": 210,
   "metadata": {},
   "outputs": [],
   "source": [
    "id_user = 4500 #user id\n",
    "\n",
    "v_input = training_set[id_user: id_user+1]\n",
    "\n",
    "v_target = testing_set[id_user: id_user+1]\n",
    "if len(v_target[v_target>=0]):\n",
    "    _, h = rbm.sample_hidden(v_input)\n",
    "    _, v_input = rbm.sample_visible(h)\n",
    "    test_loss += torch.mean(torch.abs(v_target[v_target>=0]-v_input[v_target>=0])**2)    \n",
    "    s += 1\n",
    "v_lst = v_input.detach().numpy() \n",
    "v_lst = list(v_lst)"
   ]
  },
  {
   "cell_type": "code",
   "execution_count": 211,
   "metadata": {},
   "outputs": [
    {
     "name": "stdout",
     "output_type": "stream",
     "text": [
      "3952\n"
     ]
    }
   ],
   "source": [
    "prediction = [] # prediction[i] == 1 if that movie is recommended otherwise 0\n",
    "for v  in v_lst:\n",
    "    l = list(v)\n",
    "    prediction.append(l)\n",
    "    \n",
    "print(len(prediction[0]))"
   ]
  },
  {
   "cell_type": "code",
   "execution_count": 215,
   "metadata": {},
   "outputs": [
    {
     "name": "stdout",
     "output_type": "stream",
     "text": [
      "2724\n"
     ]
    }
   ],
   "source": [
    "ind = 0\n",
    "output = [] # contains the movies name which are recommended by the model\n",
    "for p in prediction[0]:\n",
    "    if p == 1.0:\n",
    "        output.append(movies.iloc[:,1][movies.iloc[:,0] == ind])\n",
    "    ind += 1\n",
    "print(len(output))   "
   ]
  },
  {
   "cell_type": "code",
   "execution_count": 216,
   "metadata": {},
   "outputs": [
    {
     "name": "stdout",
     "output_type": "stream",
     "text": [
      "777    Gate of Heavenly Peace, The (1995)\n",
      "Name: 1, dtype: object\n",
      "3319    Harry and the Hendersons (1987)\n",
      "Name: 1, dtype: object\n",
      "341    Adventures of Priscilla, Queen of the Desert, ...\n",
      "Name: 1, dtype: object\n",
      "1467    Anaconda (1997)\n",
      "Name: 1, dtype: object\n",
      "661    Bloodsport 2 (1995)\n",
      "Name: 1, dtype: object\n"
     ]
    }
   ],
   "source": [
    "# randomly recommend the five movies from the recommended list\n",
    "from random import seed\n",
    "from random import randint\n",
    "seed(1)\n",
    "\n",
    "random_lst = []\n",
    "for _ in range(5):\n",
    "    random_lst.append(randint(0, len(output)-1))\n",
    "    \n",
    "for ind in random_lst:\n",
    "    print (output[ind])"
   ]
  },
  {
   "cell_type": "code",
   "execution_count": 217,
   "metadata": {},
   "outputs": [
    {
     "name": "stdout",
     "output_type": "stream",
     "text": [
      "(1, 3952)\n",
      "<class 'torch.Tensor'>\n"
     ]
    }
   ],
   "source": [
    "# calculate the cosine similarity of the user\n",
    "user_id = 4500\n",
    "user = training_set[id_user: id_user+1]\n",
    "user = user.detach().numpy()\n",
    "print(user.shape)\n",
    "print(type(training_set))\n",
    "tr_set = training_set.detach().numpy()\n",
    "\n",
    "similarity = []  \n",
    "\n",
    "similarity = tr_set.dot(user.transpose())"
   ]
  },
  {
   "cell_type": "code",
   "execution_count": 218,
   "metadata": {},
   "outputs": [
    {
     "name": "stdout",
     "output_type": "stream",
     "text": [
      "(6040, 1)\n",
      "6040\n"
     ]
    }
   ],
   "source": [
    "print(similarity.shape)\n",
    "sim = []\n",
    "for lst in similarity:\n",
    "    val = lst[0]\n",
    "    sim.append(val)\n",
    "    \n",
    "similarity = sim # similarity list contains the cosine similarity for userid = 4500\n",
    "print(len(similarity))\n"
   ]
  },
  {
   "cell_type": "code",
   "execution_count": 101,
   "metadata": {},
   "outputs": [],
   "source": [
    "#print(similarity)"
   ]
  },
  {
   "cell_type": "code",
   "execution_count": 223,
   "metadata": {},
   "outputs": [],
   "source": [
    "similar_users = []  # contains the neighbors of user=4500\n",
    "# get the top 5 user id with highest cosine value\n",
    "# we can tune the number of neighbors we want to choose\n",
    "# we can alos tune the score such that above this score are all neighbors of the particular user\n",
    "sort_lst = np.argsort(similarity)\n",
    "similar_users.append(sort_lst[-1])\n",
    "similar_users.append(sort_lst[-2])\n",
    "similar_users.append(sort_lst[-3])\n",
    "similar_users.append(sort_lst[-4])\n",
    "similar_users.append(sort_lst[-5])"
   ]
  },
  {
   "cell_type": "code",
   "execution_count": 222,
   "metadata": {},
   "outputs": [
    {
     "name": "stdout",
     "output_type": "stream",
     "text": [
      "[4500, 1770, 5983, 2874, 891]\n"
     ]
    }
   ],
   "source": [
    "print(similar_users)"
   ]
  },
  {
   "cell_type": "code",
   "execution_count": 224,
   "metadata": {},
   "outputs": [],
   "source": [
    "neigh1 = training_set[similar_users[0]: similar_users[0]+1]\n",
    "neigh1 = neigh1.detach().numpy()\n",
    "\n",
    "neigh2 = training_set[similar_users[1]: similar_users[1]+1]\n",
    "neigh2 = neigh2.detach().numpy()\n",
    "\n",
    "neigh3 = training_set[similar_users[2]: similar_users[2]+1]\n",
    "neigh3 = neigh3.detach().numpy()\n",
    "\n",
    "neigh4 = training_set[similar_users[3]: similar_users[3]+1]\n",
    "neigh4 = neigh4.detach().numpy()\n",
    "\n",
    "neigh5 = training_set[similar_users[4]: similar_users[4]+1]\n",
    "neigh5 = neigh5.detach().numpy()"
   ]
  },
  {
   "cell_type": "code",
   "execution_count": 225,
   "metadata": {},
   "outputs": [
    {
     "name": "stdout",
     "output_type": "stream",
     "text": [
      "[[-1 -1 -1 ... -1 -1 -1]]\n"
     ]
    }
   ],
   "source": [
    "neigh1 = neigh1.astype(int)\n",
    "neigh2 = neigh2.astype(int)\n",
    "neigh3 = neigh3.astype(int)\n",
    "neigh4 = neigh4.astype(int)\n",
    "neigh5 = neigh5.astype(int)\n",
    "print(neigh1)"
   ]
  },
  {
   "cell_type": "code",
   "execution_count": 226,
   "metadata": {},
   "outputs": [
    {
     "name": "stdout",
     "output_type": "stream",
     "text": [
      "[81]\n"
     ]
    }
   ],
   "source": [
    "neigh_prediction1 = np.logical_or(neigh1==1, neigh2==1)\n",
    "neigh_prediction2 = np.logical_or(neigh3==1,  neigh4==1)\n",
    "neigh_prediction = np.logical_or(neigh_prediction1==1, neigh_prediction2==1)\n",
    "neigh_prediction = np.logical_or(neigh_prediction==1, neigh5==1)\n",
    "print(np.count_nonzero(neigh_prediction==1, axis=1))"
   ]
  },
  {
   "cell_type": "code",
   "execution_count": 227,
   "metadata": {},
   "outputs": [
    {
     "name": "stdout",
     "output_type": "stream",
     "text": [
      "[[False False False ... False False False]]\n",
      "[81]\n",
      "(1, 3952)\n"
     ]
    }
   ],
   "source": [
    "print(neigh_prediction)\n",
    "#neigh_prediction = neigh_prediction.astype(int)\n",
    "\n",
    "print(np.count_nonzero(neigh_prediction==1, axis=1))\n",
    "print(neigh_prediction.shape)\n",
    "neigh_prediction = list(neigh_prediction)\n",
    "sim_prediction = []\n",
    "for n in neigh_prediction[0]:\n",
    "    sim_prediction.append(n)\n",
    "    \n",
    "sim_prediction = list(sim_prediction)"
   ]
  },
  {
   "cell_type": "code",
   "execution_count": 228,
   "metadata": {},
   "outputs": [
    {
     "name": "stdout",
     "output_type": "stream",
     "text": [
      "<class 'numpy.bool_'>\n"
     ]
    }
   ],
   "source": [
    "ind = 0\n",
    "sim_output = []\n",
    "print(type(sim_prediction[0]))\n",
    "pred = prediction[0]\n",
    "for ind in range(0,len(sim_prediction)):\n",
    "    if sim_prediction[ind] == True:\n",
    "        if pred[ind] == 1.:\n",
    "            sim_output.append(ind)\n",
    "    ind += 1\n",
    "        "
   ]
  },
  {
   "cell_type": "code",
   "execution_count": 229,
   "metadata": {},
   "outputs": [
    {
     "name": "stdout",
     "output_type": "stream",
     "text": [
      "77\n"
     ]
    }
   ],
   "source": [
    "print(len(sim_output))"
   ]
  },
  {
   "cell_type": "code",
   "execution_count": null,
   "metadata": {},
   "outputs": [],
   "source": []
  }
 ],
 "metadata": {
  "kernelspec": {
   "display_name": "Python 3",
   "language": "python",
   "name": "python3"
  },
  "language_info": {
   "codemirror_mode": {
    "name": "ipython",
    "version": 3
   },
   "file_extension": ".py",
   "mimetype": "text/x-python",
   "name": "python",
   "nbconvert_exporter": "python",
   "pygments_lexer": "ipython3",
   "version": "3.9.4"
  }
 },
 "nbformat": 4,
 "nbformat_minor": 4
}
