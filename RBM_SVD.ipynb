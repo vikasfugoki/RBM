{
 "cells": [
  {
   "cell_type": "code",
   "execution_count": 193,
   "id": "505a6076-d53e-4b1b-b40e-8a4398223b15",
   "metadata": {},
   "outputs": [],
   "source": [
    "# general libraries\n",
    "import numpy as np\n",
    "import pandas as pd\n",
    "\n",
    "# torch libraries\n",
    "import torch\n",
    "import torch.nn as nn\n",
    "import torch.nn.parallel\n",
    "import torch.optim as optim\n",
    "import torch.utils.data\n",
    "from torch.autograd import Variable\n",
    "\n",
    "from sklearn.model_selection import train_test_split"
   ]
  },
  {
   "cell_type": "markdown",
   "id": "61cb3901-400b-40c9-8ed0-e463391fa44a",
   "metadata": {},
   "source": [
    "### Datasets"
   ]
  },
  {
   "cell_type": "code",
   "execution_count": 194,
   "id": "eee22c31-63a9-4feb-8d15-2a6625619801",
   "metadata": {},
   "outputs": [],
   "source": [
    "# reading the dataset\n",
    "movies = pd.read_csv('ml-1m/movies.dat', sep='::', header=None, engine='python')\n",
    "users = pd.read_csv('ml-1m/users.dat', sep='::', header=None, engine='python')\n",
    "ratings = pd.read_csv('ml-1m/ratings.dat', sep='::', header=None, engine='python')"
   ]
  },
  {
   "cell_type": "code",
   "execution_count": 195,
   "id": "49bbc7f1-cce1-4f72-8fa7-22fef74559e5",
   "metadata": {},
   "outputs": [
    {
     "data": {
      "text/html": [
       "<div>\n",
       "<style scoped>\n",
       "    .dataframe tbody tr th:only-of-type {\n",
       "        vertical-align: middle;\n",
       "    }\n",
       "\n",
       "    .dataframe tbody tr th {\n",
       "        vertical-align: top;\n",
       "    }\n",
       "\n",
       "    .dataframe thead th {\n",
       "        text-align: right;\n",
       "    }\n",
       "</style>\n",
       "<table border=\"1\" class=\"dataframe\">\n",
       "  <thead>\n",
       "    <tr style=\"text-align: right;\">\n",
       "      <th></th>\n",
       "      <th>MovieID</th>\n",
       "      <th>Title</th>\n",
       "      <th>Genres</th>\n",
       "    </tr>\n",
       "  </thead>\n",
       "  <tbody>\n",
       "    <tr>\n",
       "      <th>0</th>\n",
       "      <td>1</td>\n",
       "      <td>Toy Story (1995)</td>\n",
       "      <td>Animation|Children's|Comedy</td>\n",
       "    </tr>\n",
       "    <tr>\n",
       "      <th>1</th>\n",
       "      <td>2</td>\n",
       "      <td>Jumanji (1995)</td>\n",
       "      <td>Adventure|Children's|Fantasy</td>\n",
       "    </tr>\n",
       "    <tr>\n",
       "      <th>2</th>\n",
       "      <td>3</td>\n",
       "      <td>Grumpier Old Men (1995)</td>\n",
       "      <td>Comedy|Romance</td>\n",
       "    </tr>\n",
       "    <tr>\n",
       "      <th>3</th>\n",
       "      <td>4</td>\n",
       "      <td>Waiting to Exhale (1995)</td>\n",
       "      <td>Comedy|Drama</td>\n",
       "    </tr>\n",
       "    <tr>\n",
       "      <th>4</th>\n",
       "      <td>5</td>\n",
       "      <td>Father of the Bride Part II (1995)</td>\n",
       "      <td>Comedy</td>\n",
       "    </tr>\n",
       "  </tbody>\n",
       "</table>\n",
       "</div>"
      ],
      "text/plain": [
       "   MovieID                               Title                        Genres\n",
       "0        1                    Toy Story (1995)   Animation|Children's|Comedy\n",
       "1        2                      Jumanji (1995)  Adventure|Children's|Fantasy\n",
       "2        3             Grumpier Old Men (1995)                Comedy|Romance\n",
       "3        4            Waiting to Exhale (1995)                  Comedy|Drama\n",
       "4        5  Father of the Bride Part II (1995)                        Comedy"
      ]
     },
     "execution_count": 195,
     "metadata": {},
     "output_type": "execute_result"
    }
   ],
   "source": [
    "movies.columns = ['MovieID', 'Title', 'Genres']\n",
    "movies.head()"
   ]
  },
  {
   "cell_type": "code",
   "execution_count": 196,
   "id": "0492d87c-97cf-413e-8e77-7d3f5b676de0",
   "metadata": {},
   "outputs": [
    {
     "data": {
      "text/html": [
       "<div>\n",
       "<style scoped>\n",
       "    .dataframe tbody tr th:only-of-type {\n",
       "        vertical-align: middle;\n",
       "    }\n",
       "\n",
       "    .dataframe tbody tr th {\n",
       "        vertical-align: top;\n",
       "    }\n",
       "\n",
       "    .dataframe thead th {\n",
       "        text-align: right;\n",
       "    }\n",
       "</style>\n",
       "<table border=\"1\" class=\"dataframe\">\n",
       "  <thead>\n",
       "    <tr style=\"text-align: right;\">\n",
       "      <th></th>\n",
       "      <th>UserID</th>\n",
       "      <th>MovieID</th>\n",
       "      <th>Rating</th>\n",
       "      <th>Timestamp</th>\n",
       "    </tr>\n",
       "  </thead>\n",
       "  <tbody>\n",
       "    <tr>\n",
       "      <th>0</th>\n",
       "      <td>1</td>\n",
       "      <td>1193</td>\n",
       "      <td>5</td>\n",
       "      <td>978300760</td>\n",
       "    </tr>\n",
       "    <tr>\n",
       "      <th>1</th>\n",
       "      <td>1</td>\n",
       "      <td>661</td>\n",
       "      <td>3</td>\n",
       "      <td>978302109</td>\n",
       "    </tr>\n",
       "    <tr>\n",
       "      <th>2</th>\n",
       "      <td>1</td>\n",
       "      <td>914</td>\n",
       "      <td>3</td>\n",
       "      <td>978301968</td>\n",
       "    </tr>\n",
       "    <tr>\n",
       "      <th>3</th>\n",
       "      <td>1</td>\n",
       "      <td>3408</td>\n",
       "      <td>4</td>\n",
       "      <td>978300275</td>\n",
       "    </tr>\n",
       "    <tr>\n",
       "      <th>4</th>\n",
       "      <td>1</td>\n",
       "      <td>2355</td>\n",
       "      <td>5</td>\n",
       "      <td>978824291</td>\n",
       "    </tr>\n",
       "  </tbody>\n",
       "</table>\n",
       "</div>"
      ],
      "text/plain": [
       "   UserID  MovieID  Rating  Timestamp\n",
       "0       1     1193       5  978300760\n",
       "1       1      661       3  978302109\n",
       "2       1      914       3  978301968\n",
       "3       1     3408       4  978300275\n",
       "4       1     2355       5  978824291"
      ]
     },
     "execution_count": 196,
     "metadata": {},
     "output_type": "execute_result"
    }
   ],
   "source": [
    "ratings.columns = ['UserID', 'MovieID', 'Rating', 'Timestamp']\n",
    "ratings.head()"
   ]
  },
  {
   "cell_type": "code",
   "execution_count": 197,
   "id": "fdb22723-7597-48fd-a0dd-72decbfb911b",
   "metadata": {},
   "outputs": [
    {
     "data": {
      "text/html": [
       "<div>\n",
       "<style scoped>\n",
       "    .dataframe tbody tr th:only-of-type {\n",
       "        vertical-align: middle;\n",
       "    }\n",
       "\n",
       "    .dataframe tbody tr th {\n",
       "        vertical-align: top;\n",
       "    }\n",
       "\n",
       "    .dataframe thead th {\n",
       "        text-align: right;\n",
       "    }\n",
       "</style>\n",
       "<table border=\"1\" class=\"dataframe\">\n",
       "  <thead>\n",
       "    <tr style=\"text-align: right;\">\n",
       "      <th></th>\n",
       "      <th>UserID</th>\n",
       "      <th>Gender</th>\n",
       "      <th>Age</th>\n",
       "      <th>Occupation</th>\n",
       "      <th>Zip</th>\n",
       "    </tr>\n",
       "  </thead>\n",
       "  <tbody>\n",
       "    <tr>\n",
       "      <th>0</th>\n",
       "      <td>1</td>\n",
       "      <td>F</td>\n",
       "      <td>1</td>\n",
       "      <td>10</td>\n",
       "      <td>48067</td>\n",
       "    </tr>\n",
       "    <tr>\n",
       "      <th>1</th>\n",
       "      <td>2</td>\n",
       "      <td>M</td>\n",
       "      <td>56</td>\n",
       "      <td>16</td>\n",
       "      <td>70072</td>\n",
       "    </tr>\n",
       "    <tr>\n",
       "      <th>2</th>\n",
       "      <td>3</td>\n",
       "      <td>M</td>\n",
       "      <td>25</td>\n",
       "      <td>15</td>\n",
       "      <td>55117</td>\n",
       "    </tr>\n",
       "    <tr>\n",
       "      <th>3</th>\n",
       "      <td>4</td>\n",
       "      <td>M</td>\n",
       "      <td>45</td>\n",
       "      <td>7</td>\n",
       "      <td>02460</td>\n",
       "    </tr>\n",
       "    <tr>\n",
       "      <th>4</th>\n",
       "      <td>5</td>\n",
       "      <td>M</td>\n",
       "      <td>25</td>\n",
       "      <td>20</td>\n",
       "      <td>55455</td>\n",
       "    </tr>\n",
       "  </tbody>\n",
       "</table>\n",
       "</div>"
      ],
      "text/plain": [
       "   UserID Gender  Age  Occupation    Zip\n",
       "0       1      F    1          10  48067\n",
       "1       2      M   56          16  70072\n",
       "2       3      M   25          15  55117\n",
       "3       4      M   45           7  02460\n",
       "4       5      M   25          20  55455"
      ]
     },
     "execution_count": 197,
     "metadata": {},
     "output_type": "execute_result"
    }
   ],
   "source": [
    "users.columns = [\"UserID\", \"Gender\", \"Age\", \"Occupation\", \"Zip\"]\n",
    "users.head()"
   ]
  },
  {
   "cell_type": "markdown",
   "id": "6c76dc3e-1b7e-40c1-8de5-ec7510038b0e",
   "metadata": {},
   "source": [
    "### Training and Testing Data Split"
   ]
  },
  {
   "cell_type": "code",
   "execution_count": 198,
   "id": "fd3e491b-24c3-4975-b334-ffb9012503f1",
   "metadata": {},
   "outputs": [],
   "source": [
    "training_set, testing_set = train_test_split(ratings, train_size=0.75)"
   ]
  },
  {
   "cell_type": "code",
   "execution_count": 199,
   "id": "113982f7-ad07-4d5e-82a0-ed8380ba2582",
   "metadata": {},
   "outputs": [
    {
     "name": "stdout",
     "output_type": "stream",
     "text": [
      "(750156, 4)\n",
      "(250053, 4)\n"
     ]
    }
   ],
   "source": [
    "print(training_set.shape)\n",
    "print(testing_set.shape)"
   ]
  },
  {
   "cell_type": "code",
   "execution_count": 200,
   "id": "87f1bfaf-3a00-4ff7-bacc-c10b1afc2739",
   "metadata": {},
   "outputs": [
    {
     "data": {
      "text/html": [
       "<div>\n",
       "<style scoped>\n",
       "    .dataframe tbody tr th:only-of-type {\n",
       "        vertical-align: middle;\n",
       "    }\n",
       "\n",
       "    .dataframe tbody tr th {\n",
       "        vertical-align: top;\n",
       "    }\n",
       "\n",
       "    .dataframe thead th {\n",
       "        text-align: right;\n",
       "    }\n",
       "</style>\n",
       "<table border=\"1\" class=\"dataframe\">\n",
       "  <thead>\n",
       "    <tr style=\"text-align: right;\">\n",
       "      <th></th>\n",
       "      <th>UserID</th>\n",
       "      <th>MovieID</th>\n",
       "      <th>Rating</th>\n",
       "      <th>Timestamp</th>\n",
       "    </tr>\n",
       "  </thead>\n",
       "  <tbody>\n",
       "    <tr>\n",
       "      <th>787237</th>\n",
       "      <td>4708</td>\n",
       "      <td>32</td>\n",
       "      <td>4</td>\n",
       "      <td>963513901</td>\n",
       "    </tr>\n",
       "    <tr>\n",
       "      <th>977690</th>\n",
       "      <td>5890</td>\n",
       "      <td>3608</td>\n",
       "      <td>4</td>\n",
       "      <td>957471449</td>\n",
       "    </tr>\n",
       "    <tr>\n",
       "      <th>544467</th>\n",
       "      <td>3356</td>\n",
       "      <td>1997</td>\n",
       "      <td>5</td>\n",
       "      <td>967697436</td>\n",
       "    </tr>\n",
       "    <tr>\n",
       "      <th>677493</th>\n",
       "      <td>4060</td>\n",
       "      <td>2302</td>\n",
       "      <td>4</td>\n",
       "      <td>965491773</td>\n",
       "    </tr>\n",
       "    <tr>\n",
       "      <th>696509</th>\n",
       "      <td>4169</td>\n",
       "      <td>2531</td>\n",
       "      <td>3</td>\n",
       "      <td>967164813</td>\n",
       "    </tr>\n",
       "  </tbody>\n",
       "</table>\n",
       "</div>"
      ],
      "text/plain": [
       "        UserID  MovieID  Rating  Timestamp\n",
       "787237    4708       32       4  963513901\n",
       "977690    5890     3608       4  957471449\n",
       "544467    3356     1997       5  967697436\n",
       "677493    4060     2302       4  965491773\n",
       "696509    4169     2531       3  967164813"
      ]
     },
     "execution_count": 200,
     "metadata": {},
     "output_type": "execute_result"
    }
   ],
   "source": [
    "# row:-  userId :: movieId :: rating(0-5) :: timestamp\n",
    "training_set.head()"
   ]
  },
  {
   "cell_type": "code",
   "execution_count": 201,
   "id": "ec97cc6b-4c4f-46ff-a45f-6a2ca6f1a311",
   "metadata": {},
   "outputs": [
    {
     "data": {
      "text/html": [
       "<div>\n",
       "<style scoped>\n",
       "    .dataframe tbody tr th:only-of-type {\n",
       "        vertical-align: middle;\n",
       "    }\n",
       "\n",
       "    .dataframe tbody tr th {\n",
       "        vertical-align: top;\n",
       "    }\n",
       "\n",
       "    .dataframe thead th {\n",
       "        text-align: right;\n",
       "    }\n",
       "</style>\n",
       "<table border=\"1\" class=\"dataframe\">\n",
       "  <thead>\n",
       "    <tr style=\"text-align: right;\">\n",
       "      <th></th>\n",
       "      <th>UserID</th>\n",
       "      <th>MovieID</th>\n",
       "      <th>Rating</th>\n",
       "      <th>Timestamp</th>\n",
       "    </tr>\n",
       "  </thead>\n",
       "  <tbody>\n",
       "    <tr>\n",
       "      <th>42380</th>\n",
       "      <td>289</td>\n",
       "      <td>745</td>\n",
       "      <td>5</td>\n",
       "      <td>976566826</td>\n",
       "    </tr>\n",
       "    <tr>\n",
       "      <th>774880</th>\n",
       "      <td>4621</td>\n",
       "      <td>1092</td>\n",
       "      <td>4</td>\n",
       "      <td>964118983</td>\n",
       "    </tr>\n",
       "    <tr>\n",
       "      <th>892920</th>\n",
       "      <td>5394</td>\n",
       "      <td>2858</td>\n",
       "      <td>5</td>\n",
       "      <td>960319179</td>\n",
       "    </tr>\n",
       "    <tr>\n",
       "      <th>829897</th>\n",
       "      <td>4982</td>\n",
       "      <td>1097</td>\n",
       "      <td>5</td>\n",
       "      <td>962595672</td>\n",
       "    </tr>\n",
       "    <tr>\n",
       "      <th>345355</th>\n",
       "      <td>2025</td>\n",
       "      <td>70</td>\n",
       "      <td>1</td>\n",
       "      <td>974672237</td>\n",
       "    </tr>\n",
       "  </tbody>\n",
       "</table>\n",
       "</div>"
      ],
      "text/plain": [
       "        UserID  MovieID  Rating  Timestamp\n",
       "42380      289      745       5  976566826\n",
       "774880    4621     1092       4  964118983\n",
       "892920    5394     2858       5  960319179\n",
       "829897    4982     1097       5  962595672\n",
       "345355    2025       70       1  974672237"
      ]
     },
     "execution_count": 201,
     "metadata": {},
     "output_type": "execute_result"
    }
   ],
   "source": [
    "# row:-  userId :: movieId :: rating(0-5) :: timestamp\n",
    "testing_set.head()"
   ]
  },
  {
   "cell_type": "code",
   "execution_count": 202,
   "id": "1c868683-81c4-4610-83aa-30e7a2610191",
   "metadata": {},
   "outputs": [
    {
     "name": "stdout",
     "output_type": "stream",
     "text": [
      "3952\n"
     ]
    }
   ],
   "source": [
    "# get the maximum id of movies-id\n",
    "max_movie_id = max (ratings.iloc[:, 1])\n",
    "print(max_movie_id)"
   ]
  },
  {
   "cell_type": "code",
   "execution_count": 203,
   "id": "a24e49bb-cd09-486e-a671-773379ba7942",
   "metadata": {},
   "outputs": [
    {
     "name": "stdout",
     "output_type": "stream",
     "text": [
      "6040\n"
     ]
    }
   ],
   "source": [
    "# get the maximum id of the userID\n",
    "max_user_id = max (ratings.iloc[:, 0])\n",
    "print(max_user_id)"
   ]
  },
  {
   "cell_type": "markdown",
   "id": "86fdae5c-2519-4994-8018-0ce0b492ecbb",
   "metadata": {},
   "source": [
    "### transforming the data"
   ]
  },
  {
   "cell_type": "code",
   "execution_count": 204,
   "id": "51242888-72a3-443e-b8e0-8e94b706d654",
   "metadata": {},
   "outputs": [],
   "source": [
    "# transforming the training data\n",
    "train_data = []\n",
    "\n",
    "for i in range(1, max_user_id+1):\n",
    "    \n",
    "    movies_lst = training_set.iloc[:,1][training_set.iloc[:, 0] == i]\n",
    "    rating_lst = training_set.iloc[:,2][training_set.iloc[:, 0] == i]\n",
    "    new_lst = np.zeros(max_movie_id)\n",
    "    new_lst[movies_lst-1] = rating_lst   \n",
    "    train_data.append(new_lst)\n",
    "    "
   ]
  },
  {
   "cell_type": "code",
   "execution_count": 205,
   "id": "45351dff-9294-486a-ba98-8407af680f78",
   "metadata": {},
   "outputs": [],
   "source": [
    "# transforming the testing data\n",
    "test_data = []\n",
    "\n",
    "for i in range(1, max_user_id+1):\n",
    "    \n",
    "    movies_lst = testing_set.iloc[:,1][testing_set.iloc[:, 0] == i]\n",
    "    rating_lst = testing_set.iloc[:,2][testing_set.iloc[:, 0] == i]\n",
    "    new_lst = np.zeros(max_movie_id)\n",
    "    new_lst[movies_lst-1] = rating_lst   \n",
    "    test_data.append(new_lst)"
   ]
  },
  {
   "cell_type": "code",
   "execution_count": 206,
   "id": "2fca9010-0f09-44ae-972d-7924d42a2bd8",
   "metadata": {},
   "outputs": [
    {
     "name": "stdout",
     "output_type": "stream",
     "text": [
      "6040\n",
      "3952\n"
     ]
    }
   ],
   "source": [
    "print(len(train_data))\n",
    "print(len(train_data[0]))"
   ]
  },
  {
   "cell_type": "code",
   "execution_count": 207,
   "id": "f27acc8d-2538-4c74-92e7-afa982f5888c",
   "metadata": {},
   "outputs": [
    {
     "name": "stdout",
     "output_type": "stream",
     "text": [
      "6040\n",
      "3952\n"
     ]
    }
   ],
   "source": [
    "print(len(test_data))\n",
    "print(len(test_data[0]))"
   ]
  },
  {
   "cell_type": "code",
   "execution_count": 208,
   "id": "b9b2630a-c25d-46f3-83be-c85915be81cd",
   "metadata": {},
   "outputs": [],
   "source": [
    "# convert the data to tensor\n",
    "train_data = torch.FloatTensor(train_data)\n",
    "test_data = torch.FloatTensor(test_data)"
   ]
  },
  {
   "cell_type": "code",
   "execution_count": 209,
   "id": "171f2027-331c-423c-a337-fbbb479460d9",
   "metadata": {},
   "outputs": [],
   "source": [
    "com_test_data = test_data\n",
    "com_train_data = train_data"
   ]
  },
  {
   "cell_type": "code",
   "execution_count": 210,
   "id": "e15c09e0-c543-4ae1-a6e7-848958a7aa26",
   "metadata": {},
   "outputs": [],
   "source": [
    "# converting the ratings to binary as RBM works on binary set only\n",
    "train_data[train_data == 0] = -1 # no rating\n",
    "train_data[train_data == 1] = 0  # bad movie\n",
    "train_data[train_data == 2] = 0 # bad movie\n",
    "train_data[train_data > 2] = 1 # good movie\n",
    "\n",
    "\n",
    "test_data[test_data == 0] = -1 # no rating\n",
    "test_data[test_data == 1] = 0  # bad movie\n",
    "test_data[test_data == 2] = 0 # bad movie\n",
    "test_data[test_data > 2] = 1  # good movie "
   ]
  },
  {
   "cell_type": "markdown",
   "id": "18f19b05-b891-44f4-b03e-8b2e7557b93a",
   "metadata": {},
   "source": [
    "### Model"
   ]
  },
  {
   "cell_type": "code",
   "execution_count": 211,
   "id": "b641098a-372b-4ac8-856b-8f63a289a8b9",
   "metadata": {},
   "outputs": [],
   "source": [
    "'''\n",
    "GenerativeModels H. G.M.\n",
    "Github repository\n",
    "'''\n",
    "class RBM:\n",
    "    def __init__(self, num_visible, num_hidden):\n",
    "        #self.num_visible = num_visible\n",
    "        #self.num_hidden = num_hidden\n",
    "        \n",
    "        # initialize the weights with random\n",
    "        self.W = torch.randn(num_hidden, num_visible)\n",
    "        self.a = torch.randn(1, num_hidden)\n",
    "        self.b = torch.randn(1, num_visible)\n",
    "        print(self.W)\n",
    "        \n",
    "        \n",
    "    def sample_hidden(self, x):\n",
    "        Wx = torch.mm(x, self.W.t())  \n",
    "        activation = Wx + self.a.expand_as(Wx)\n",
    "        ph_given_v = torch.sigmoid(activation)\n",
    "        return ph_given_v, torch.bernoulli(ph_given_v)\n",
    "    \n",
    "    \n",
    "    def sample_visible(self, y):\n",
    "        Wy = torch.mm(y, self.W)\n",
    "        activation = Wy + self.b.expand_as(Wy)\n",
    "        pv_given_h = torch.sigmoid(activation)\n",
    "        return pv_given_h, torch.bernoulli(pv_given_h)\n",
    "    \n",
    "    def train (self, v0, vk, ph0, phk):\n",
    "        self.W += (torch.mm(v0.t(), ph0) - torch.mm(vk.t(), phk)).t()\n",
    "        self.b += torch.sum((v0 - vk), 0)\n",
    "        self.a += torch.sum((ph0-phk), 0)\n"
   ]
  },
  {
   "cell_type": "markdown",
   "id": "7ab4b307-9101-45d7-ad68-a88c7d718cf6",
   "metadata": {},
   "source": [
    "nv = len(train_data[0])\n",
    "nh= 100\n",
    "batch_size = 100\n",
    "rbm = RBM(nv, nh)"
   ]
  },
  {
   "cell_type": "markdown",
   "id": "f126dc8c-54f9-47a1-9a03-0b5fd3877339",
   "metadata": {},
   "source": [
    "### Training"
   ]
  },
  {
   "cell_type": "code",
   "execution_count": 213,
   "id": "2087bc87-78e5-42fc-a33c-c6d6dcf15f03",
   "metadata": {},
   "outputs": [
    {
     "name": "stdout",
     "output_type": "stream",
     "text": [
      "epoch: 1RMSE Reconstruction loss: tensor(0.2423)\n",
      "epoch: 2RMSE Reconstruction loss: tensor(0.2286)\n",
      "epoch: 3RMSE Reconstruction loss: tensor(0.2281)\n",
      "epoch: 4RMSE Reconstruction loss: tensor(0.2295)\n",
      "epoch: 5RMSE Reconstruction loss: tensor(0.2283)\n",
      "epoch: 6RMSE Reconstruction loss: tensor(0.2287)\n",
      "epoch: 7RMSE Reconstruction loss: tensor(0.2282)\n",
      "epoch: 8RMSE Reconstruction loss: tensor(0.2281)\n",
      "epoch: 9RMSE Reconstruction loss: tensor(0.2278)\n",
      "epoch: 10RMSE Reconstruction loss: tensor(0.2283)\n",
      "epoch: 11RMSE Reconstruction loss: tensor(0.2279)\n",
      "epoch: 12RMSE Reconstruction loss: tensor(0.2283)\n",
      "epoch: 13RMSE Reconstruction loss: tensor(0.2279)\n",
      "epoch: 14RMSE Reconstruction loss: tensor(0.2283)\n",
      "epoch: 15RMSE Reconstruction loss: tensor(0.2279)\n",
      "epoch: 16RMSE Reconstruction loss: tensor(0.2278)\n",
      "epoch: 17RMSE Reconstruction loss: tensor(0.2283)\n",
      "epoch: 18RMSE Reconstruction loss: tensor(0.2283)\n",
      "epoch: 19RMSE Reconstruction loss: tensor(0.2284)\n",
      "epoch: 20RMSE Reconstruction loss: tensor(0.2281)\n"
     ]
    }
   ],
   "source": [
    "\n",
    "nb_epoch = 20\n",
    "rmse_erros = []\n",
    "for epoch in range(1, nb_epoch+1):\n",
    "    train_loss = 0\n",
    "    s = 0.\n",
    "    for id_user in range(0, max_user_id - batch_size, 100):\n",
    "        vk = train_data[id_user: id_user+batch_size]\n",
    "        v0 = train_data[id_user: id_user+batch_size]\n",
    "        ph0, _ = rbm.sample_hidden(v0)\n",
    "        for k in range(10):\n",
    "            _, hk = rbm.sample_hidden(vk)\n",
    "            _, vk = rbm.sample_visible(hk)\n",
    "            vk[v0<0] = v0[v0<0]\n",
    "        phk, _ = rbm.sample_hidden(vk)\n",
    "        rbm.train(v0, vk, ph0, phk)\n",
    "        train_loss += torch.mean(torch.abs(v0[v0>=0]-vk[v0>=0])**2)\n",
    "        s += 1\n",
    "    print('epoch: '+str(epoch)+'RMSE Reconstruction loss: '+str(train_loss/s))\n",
    "    rmse_erros.append(train_loss/s)\n"
   ]
  },
  {
   "cell_type": "code",
   "execution_count": 214,
   "id": "4468b654-87d9-41a7-ad88-feb8b62a37d3",
   "metadata": {},
   "outputs": [
    {
     "data": {
      "text/plain": [
       "[<matplotlib.lines.Line2D at 0x7f5676db2e80>]"
      ]
     },
     "execution_count": 214,
     "metadata": {},
     "output_type": "execute_result"
    },
    {
     "data": {
      "image/png": "[encoded data removed]",
      "text/plain": [
       "<Figure size 432x288 with 1 Axes>"
      ]
     },
     "metadata": {
      "needs_background": "light"
     },
     "output_type": "display_data"
    }
   ],
   "source": [
    "# plotting the reconstruction error\n",
    "import matplotlib.pyplot as plt\n",
    "plt.xlabel = 'epochs'\n",
    "plt.ylabel = 'RMSE error'\n",
    "plt.plot(list(range(20)), rmse_erros, \"-\")"
   ]
  },
  {
   "cell_type": "markdown",
   "id": "caea89ad-7d77-40c0-a227-c97f93d42d61",
   "metadata": {},
   "source": [
    "### Testing"
   ]
  },
  {
   "cell_type": "code",
   "execution_count": 215,
   "id": "92584ddd-6705-49c2-881a-8d5a8f8d7c87",
   "metadata": {},
   "outputs": [
    {
     "name": "stdout",
     "output_type": "stream",
     "text": [
      "torch.Size([0])\n",
      "torch.Size([0])\n"
     ]
    }
   ],
   "source": [
    "test_loss = 0\n",
    "movies_like = torch.FloatTensor()\n",
    "print(movies_like.shape)\n",
    "s = 0.\n",
    "for id_user in range(0, max_user_id):\n",
    "    v_input = train_data[id_user: id_user+1]\n",
    "    v_target = test_data[id_user: id_user+1]\n",
    "    if len(v_target[v_target>=0]):\n",
    "        _, h = rbm.sample_hidden(v_input)\n",
    "        _, v_input = rbm.sample_visible(h)\n",
    "        test_loss += torch.mean(torch.abs(v_target[v_target>=0]-v_input[v_target>=0])**2)    \n",
    "        s += 1\n",
    "        \n",
    "print(movies_like.shape)"
   ]
  },
  {
   "cell_type": "code",
   "execution_count": 216,
   "id": "c0103926-960a-4b89-b8a9-29b97bf41d44",
   "metadata": {},
   "outputs": [
    {
     "name": "stdout",
     "output_type": "stream",
     "text": [
      "test Reconstruction loss: tensor(0.2101)\n"
     ]
    }
   ],
   "source": [
    "print('test Reconstruction loss: ' +str(test_loss/s))"
   ]
  },
  {
   "cell_type": "markdown",
   "id": "7b5df793-f332-4ff3-9be0-c69b7d9ae8e1",
   "metadata": {},
   "source": [
    "### SVD"
   ]
  },
  {
   "cell_type": "code",
   "execution_count": 217,
   "id": "abed02f1-fccc-4262-aa02-0929fe7acb71",
   "metadata": {},
   "outputs": [],
   "source": [
    "import numpy as np\n",
    "import pandas as pd\n",
    "import tensorflow.compat.v1 as tf\n",
    "tf.disable_v2_behavior()"
   ]
  },
  {
   "cell_type": "code",
   "execution_count": 218,
   "id": "d3ee7911-8524-446b-b8f3-4c19cbf7ed16",
   "metadata": {},
   "outputs": [],
   "source": [
    "movies = pd.read_csv('ml-1m/movies.dat', sep='::', header=None, engine='python')\n",
    "ratings = pd.read_csv('ml-1m/ratings.dat', sep='::', header=None, engine='python')\n",
    "users = pd.read_csv('ml-1m/users.dat', sep='::', header=None, engine='python')"
   ]
  },
  {
   "cell_type": "code",
   "execution_count": 219,
   "id": "d022fc2e-5512-45fd-95e8-72d4d32d50d4",
   "metadata": {},
   "outputs": [
    {
     "name": "stdout",
     "output_type": "stream",
     "text": [
      "6040\n"
     ]
    }
   ],
   "source": [
    "rating_data = []\n",
    "\n",
    "for i in range(1, max_user_id+1):\n",
    "    \n",
    "    movies_lst = ratings.iloc[:,1][ratings.iloc[:, 0] == i]\n",
    "    rating_lst = ratings.iloc[:,2][ratings.iloc[:, 0] == i]\n",
    "    new_lst = np.zeros(max_movie_id)\n",
    "    new_lst[movies_lst-1] = rating_lst   \n",
    "    rating_data.append(new_lst)\n",
    "    \n",
    "print(len(rating_data))"
   ]
  },
  {
   "cell_type": "code",
   "execution_count": 220,
   "id": "9aa9f504-f6b9-4cce-9191-13a056c1e20a",
   "metadata": {},
   "outputs": [
    {
     "name": "stdout",
     "output_type": "stream",
     "text": [
      "6040\n",
      "3952\n"
     ]
    }
   ],
   "source": [
    "print(len(rating_data))\n",
    "print(len(rating_data[0]))"
   ]
  },
  {
   "cell_type": "code",
   "execution_count": 221,
   "id": "cd55a69c-661d-4176-88f9-099478ada0c4",
   "metadata": {},
   "outputs": [],
   "source": [
    "# perform SVD\n",
    "from sklearn.decomposition import TruncatedSVD\n",
    "\n",
    "train = rating_data[:4000][:3000]\n",
    "test = rating_data[4000:][3000:]\n",
    "\n",
    "train = np.array(train)\n",
    "test = np.array(test)\n",
    "\n",
    "movie_svd = TruncatedSVD(n_components=10)\n",
    "movie_features = movie_svd.fit_transform(train.transpose())\n",
    "\n",
    "user_svd = TruncatedSVD(n_components=10)\n",
    "user_features = user_svd.fit_transform(train)\n",
    "\n"
   ]
  },
  {
   "cell_type": "code",
   "execution_count": 222,
   "id": "0d213ea5-8f42-4de8-9e73-007d89a57f10",
   "metadata": {},
   "outputs": [
    {
     "name": "stdout",
     "output_type": "stream",
     "text": [
      "(3952, 10)\n",
      "(3000, 10)\n"
     ]
    }
   ],
   "source": [
    "print(movie_features.shape)\n",
    "print(user_features.shape)"
   ]
  },
  {
   "cell_type": "code",
   "execution_count": 223,
   "id": "7f676151-714d-4155-8172-cc95a2810f56",
   "metadata": {},
   "outputs": [],
   "source": [
    "ratings = pd.read_csv('ml-1m/ratings.dat', sep='::', header=None, engine='python')"
   ]
  },
  {
   "cell_type": "code",
   "execution_count": 224,
   "id": "66510dd7-036a-478d-909d-58a1d0923b11",
   "metadata": {},
   "outputs": [
    {
     "data": {
      "text/html": [
       "<div>\n",
       "<style scoped>\n",
       "    .dataframe tbody tr th:only-of-type {\n",
       "        vertical-align: middle;\n",
       "    }\n",
       "\n",
       "    .dataframe tbody tr th {\n",
       "        vertical-align: top;\n",
       "    }\n",
       "\n",
       "    .dataframe thead th {\n",
       "        text-align: right;\n",
       "    }\n",
       "</style>\n",
       "<table border=\"1\" class=\"dataframe\">\n",
       "  <thead>\n",
       "    <tr style=\"text-align: right;\">\n",
       "      <th></th>\n",
       "      <th>UserID</th>\n",
       "      <th>MovieID</th>\n",
       "      <th>Rating</th>\n",
       "      <th>Timestamp</th>\n",
       "    </tr>\n",
       "  </thead>\n",
       "  <tbody>\n",
       "    <tr>\n",
       "      <th>0</th>\n",
       "      <td>1</td>\n",
       "      <td>1193</td>\n",
       "      <td>5</td>\n",
       "      <td>978300760</td>\n",
       "    </tr>\n",
       "    <tr>\n",
       "      <th>1</th>\n",
       "      <td>1</td>\n",
       "      <td>661</td>\n",
       "      <td>3</td>\n",
       "      <td>978302109</td>\n",
       "    </tr>\n",
       "    <tr>\n",
       "      <th>2</th>\n",
       "      <td>1</td>\n",
       "      <td>914</td>\n",
       "      <td>3</td>\n",
       "      <td>978301968</td>\n",
       "    </tr>\n",
       "    <tr>\n",
       "      <th>3</th>\n",
       "      <td>1</td>\n",
       "      <td>3408</td>\n",
       "      <td>4</td>\n",
       "      <td>978300275</td>\n",
       "    </tr>\n",
       "    <tr>\n",
       "      <th>4</th>\n",
       "      <td>1</td>\n",
       "      <td>2355</td>\n",
       "      <td>5</td>\n",
       "      <td>978824291</td>\n",
       "    </tr>\n",
       "  </tbody>\n",
       "</table>\n",
       "</div>"
      ],
      "text/plain": [
       "   UserID  MovieID  Rating  Timestamp\n",
       "0       1     1193       5  978300760\n",
       "1       1      661       3  978302109\n",
       "2       1      914       3  978301968\n",
       "3       1     3408       4  978300275\n",
       "4       1     2355       5  978824291"
      ]
     },
     "execution_count": 224,
     "metadata": {},
     "output_type": "execute_result"
    }
   ],
   "source": [
    "ratings.columns = ['UserID', 'MovieID', 'Rating', 'Timestamp']\n",
    "ratings.head()"
   ]
  },
  {
   "cell_type": "code",
   "execution_count": 225,
   "id": "1fd495cc-0056-4af7-990d-72d34d4d2718",
   "metadata": {},
   "outputs": [],
   "source": [
    "ratings['UserID'] = ratings['UserID'].apply(lambda x:x-1)\n",
    "ratings['MovieID'] = ratings['MovieID'].apply(lambda x:x-1)"
   ]
  },
  {
   "cell_type": "code",
   "execution_count": 226,
   "id": "59a55aaa-bd30-4b1d-a253-c47ef652b584",
   "metadata": {},
   "outputs": [
    {
     "data": {
      "text/html": [
       "<div>\n",
       "<style scoped>\n",
       "    .dataframe tbody tr th:only-of-type {\n",
       "        vertical-align: middle;\n",
       "    }\n",
       "\n",
       "    .dataframe tbody tr th {\n",
       "        vertical-align: top;\n",
       "    }\n",
       "\n",
       "    .dataframe thead th {\n",
       "        text-align: right;\n",
       "    }\n",
       "</style>\n",
       "<table border=\"1\" class=\"dataframe\">\n",
       "  <thead>\n",
       "    <tr style=\"text-align: right;\">\n",
       "      <th></th>\n",
       "      <th>UserID</th>\n",
       "      <th>MovieID</th>\n",
       "      <th>Rating</th>\n",
       "      <th>Timestamp</th>\n",
       "    </tr>\n",
       "  </thead>\n",
       "  <tbody>\n",
       "    <tr>\n",
       "      <th>0</th>\n",
       "      <td>0</td>\n",
       "      <td>1192</td>\n",
       "      <td>5</td>\n",
       "      <td>978300760</td>\n",
       "    </tr>\n",
       "    <tr>\n",
       "      <th>1</th>\n",
       "      <td>0</td>\n",
       "      <td>660</td>\n",
       "      <td>3</td>\n",
       "      <td>978302109</td>\n",
       "    </tr>\n",
       "    <tr>\n",
       "      <th>2</th>\n",
       "      <td>0</td>\n",
       "      <td>913</td>\n",
       "      <td>3</td>\n",
       "      <td>978301968</td>\n",
       "    </tr>\n",
       "    <tr>\n",
       "      <th>3</th>\n",
       "      <td>0</td>\n",
       "      <td>3407</td>\n",
       "      <td>4</td>\n",
       "      <td>978300275</td>\n",
       "    </tr>\n",
       "    <tr>\n",
       "      <th>4</th>\n",
       "      <td>0</td>\n",
       "      <td>2354</td>\n",
       "      <td>5</td>\n",
       "      <td>978824291</td>\n",
       "    </tr>\n",
       "  </tbody>\n",
       "</table>\n",
       "</div>"
      ],
      "text/plain": [
       "   UserID  MovieID  Rating  Timestamp\n",
       "0       0     1192       5  978300760\n",
       "1       0      660       3  978302109\n",
       "2       0      913       3  978301968\n",
       "3       0     3407       4  978300275\n",
       "4       0     2354       5  978824291"
      ]
     },
     "execution_count": 226,
     "metadata": {},
     "output_type": "execute_result"
    }
   ],
   "source": [
    "ratings.head()"
   ]
  },
  {
   "cell_type": "code",
   "execution_count": 227,
   "id": "bc88e886-fa45-4361-81c4-51ad94526b9e",
   "metadata": {},
   "outputs": [],
   "source": [
    "columns = [\"uf{0}\".format(i+1) for i in range(10)]\n",
    "ufs = pd.DataFrame(user_features, columns = columns)\n",
    "ufs[\"UserID\"] = ufs.index\n",
    "\n",
    "\n",
    "columns = [\"mf{0}\".format(i+1) for i in range(10)]\n",
    "mfs = pd.DataFrame(movie_features, columns = columns)\n",
    "mfs[\"MovieID\"] = mfs.index\n",
    "\n",
    "\n",
    "train_data = ratings.merge(ufs, on=\"UserID\") \\\n",
    "    .merge(mfs, on=\"MovieID\") \\\n",
    "    .drop([\"UserID\", \"MovieID\"], axis = 1)\n"
   ]
  },
  {
   "cell_type": "code",
   "execution_count": 228,
   "id": "66e3c8ed-74a6-4a0b-b487-464feb3f3919",
   "metadata": {},
   "outputs": [
    {
     "name": "stdout",
     "output_type": "stream",
     "text": [
      "targets.shape = (487756,)\n",
      "data.shape = (487756, 21)\n"
     ]
    }
   ],
   "source": [
    "import numpy as np\n",
    "\n",
    "targets = np.array(train_data.Rating)\n",
    "data = np.array(train_data.drop(\"Rating\", axis = 1))\n",
    "\n",
    "print (\"targets.shape = {0}\".format(targets.shape))\n",
    "print (\"data.shape = {0}\".format(data.shape))"
   ]
  },
  {
   "cell_type": "code",
   "execution_count": 229,
   "id": "4131a962-75c8-4d34-b736-a16eacc4a18d",
   "metadata": {},
   "outputs": [
    {
     "name": "stdout",
     "output_type": "stream",
     "text": [
      "      Iter       Train Loss   Remaining Time \n",
      "         1           1.2097           36.60s\n",
      "         2           1.1777           35.06s\n",
      "         3           1.1508           32.67s\n",
      "         4           1.1288           30.69s\n",
      "         5           1.1110           28.73s\n",
      "         6           1.0938           26.67s\n",
      "         7           1.0812           24.64s\n",
      "         8           1.0691           22.80s\n",
      "         9           1.0596           20.90s\n",
      "        10           1.0510           19.01s\n",
      "        20           1.0081            0.00s\n",
      "1.004036671961733\n",
      "<bound method RegressorMixin.score of GradientBoostingRegressor(n_estimators=20, verbose=1)>\n"
     ]
    }
   ],
   "source": [
    "from sklearn.ensemble import GradientBoostingRegressor\n",
    "from sklearn.metrics import mean_squared_error \n",
    "import math\n",
    "\n",
    "regressor = GradientBoostingRegressor(learning_rate=0.1, n_estimators=20, verbose=1)\n",
    "regressor.fit(data, targets)\n",
    "\n",
    "print (math.sqrt(mean_squared_error( regressor.predict(data), targets )))\n",
    "print(regressor.score)"
   ]
  },
  {
   "cell_type": "code",
   "execution_count": null,
   "id": "b87f4e9c-dfe6-4ab3-b150-af3a2394faa6",
   "metadata": {},
   "outputs": [],
   "source": [
    "# fine-tuning using cross-validation\n",
    "from sklearn.model_selection import cross_val_score\n",
    "\n",
    "scores = cross_val_score(regressor, data, targets,\n",
    "                         scoring=\"neg_mean_squared_error\", cv=20)\n",
    "tree_rmse_scores = np.sqrt(-scores)"
   ]
  },
  {
   "cell_type": "code",
   "execution_count": 231,
   "id": "e4c91c6b-813b-41bc-9dc6-aba0c6675a6f",
   "metadata": {},
   "outputs": [
    {
     "name": "stdout",
     "output_type": "stream",
     "text": [
      "[1.1051987172263587, 1.0562585540009581, 1.0736926859111169, 0.9835784869894509, 0.9979154917554774, 1.0373242399645226, 1.0677663883737964, 1.0483830138662726, 1.0454991097166006, 0.9969956779669001, 1.005763506758677, 0.9954811775681123, 1.0118134553075917, 0.9965306329599669, 0.985732515535996, 0.9620059361612778, 0.9660947815748512, 0.9614966497555344, 0.946004456652477, 0.9333136500196226]\n"
     ]
    }
   ],
   "source": [
    "scores = list(tree_rmse_scores)\n",
    "scores.reverse()\n",
    "print(scores)"
   ]
  },
  {
   "cell_type": "code",
   "execution_count": 233,
   "id": "7038551d-451b-4aff-8a64-213e144005f7",
   "metadata": {},
   "outputs": [
    {
     "data": {
      "text/plain": [
       "[<matplotlib.lines.Line2D at 0x7f5670fde2e0>]"
      ]
     },
     "execution_count": 233,
     "metadata": {},
     "output_type": "execute_result"
    },
    {
     "data": {
      "image/png": "[encoded data removed]",
      "text/plain": [
       "<Figure size 432x288 with 1 Axes>"
      ]
     },
     "metadata": {
      "needs_background": "light"
     },
     "output_type": "display_data"
    }
   ],
   "source": [
    "import matplotlib.pyplot as plt\n",
    "plt.xlabel = 'epochs'\n",
    "plt.ylabel = 'RMSE error'\n",
    "plt.plot(list(range(20)), scores, \"-\")"
   ]
  },
  {
   "cell_type": "code",
   "execution_count": null,
   "id": "52104c6e-1d0c-4fed-bf6c-46be4a198558",
   "metadata": {},
   "outputs": [],
   "source": []
  }
 ],
 "metadata": {
  "kernelspec": {
   "display_name": "Python 3",
   "language": "python",
   "name": "python3"
  },
  "language_info": {
   "codemirror_mode": {
    "name": "ipython",
    "version": 3
   },
   "file_extension": ".py",
   "mimetype": "text/x-python",
   "name": "python",
   "nbconvert_exporter": "python",
   "pygments_lexer": "ipython3",
   "version": "3.9.4"
  }
 },
 "nbformat": 4,
 "nbformat_minor": 5
}
